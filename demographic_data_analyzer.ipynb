{
  "nbformat": 4,
  "nbformat_minor": 0,
  "metadata": {
    "colab": {
      "provenance": [],
      "authorship_tag": "ABX9TyP++vbHc63PsiOwXx9VUk2j",
      "include_colab_link": true
    },
    "kernelspec": {
      "name": "python3",
      "display_name": "Python 3"
    },
    "language_info": {
      "name": "python"
    }
  },
  "cells": [
    {
      "cell_type": "markdown",
      "metadata": {
        "id": "view-in-github",
        "colab_type": "text"
      },
      "source": [
        "<a href=\"https://colab.research.google.com/github/PhantomXS003/data-analysis-projects/blob/main/demographic_data_analyzer.ipynb\" target=\"_parent\"><img src=\"https://colab.research.google.com/assets/colab-badge.svg\" alt=\"Open In Colab\"/></a>"
      ]
    },
    {
      "cell_type": "code",
      "source": [
        "import pandas as pd"
      ],
      "metadata": {
        "id": "9hUm7NdEOaG4"
      },
      "execution_count": 41,
      "outputs": []
    },
    {
      "cell_type": "code",
      "source": [
        "def calculate_demographic_data(print_data=True):\n",
        "    df = pd.read_csv(\"adult.data.csv\")\n",
        "    df.columns = [\n",
        "        'age', 'workclass', 'fnlwgt', 'education', 'education-num',\n",
        "        'marital-status', 'occupation', 'relationship', 'race', 'sex',\n",
        "        'capital-gain', 'capital-loss', 'hours-per-week', 'native-country', 'salary'\n",
        "    ]\n",
        "\n",
        "    race_count = df['race'].value_counts()\n",
        "\n",
        "    average_age_men = round(df[df['sex'] == 'Male']['age'].mean(), 1)\n",
        "\n",
        "    percentage_bachelors = round((df['education'] == 'Bachelors').mean() * 100, 1)\n",
        "\n",
        "    higher_education = df['education'].isin(['Bachelors', 'Masters', 'Doctorate'])\n",
        "    lower_education = ~higher_education\n",
        "\n",
        "    higher_education_rich = round((df[higher_education]['salary'] == '>50K').mean() * 100, 1)\n",
        "    lower_education_rich = round((df[lower_education]['salary'] == '>50K').mean() * 100, 1)\n",
        "\n",
        "    min_work_hours = df['hours-per-week'].min()\n",
        "\n",
        "    num_min_workers = df[df['hours-per-week'] == min_work_hours]\n",
        "    rich_percentage = round((num_min_workers['salary'] == '>50K').mean() * 100, 1)\n",
        "\n",
        "    country_wealth = (df[df['salary'] == '>50K']['native-country'].value_counts() /\n",
        "                      df['native-country'].value_counts()) * 100\n",
        "    highest_earning_country = country_wealth.idxmax()\n",
        "    highest_earning_country_percentage = round(country_wealth.max(), 1)\n",
        "\n",
        "    top_IN_occupation = (df[(df['native-country'] == 'India') &\n",
        "                            (df['salary'] == '>50K')]['occupation']\n",
        "                         .value_counts()\n",
        "                         .idxmax())\n",
        "\n",
        "    if print_data:\n",
        "        print(\"Number of each race:\\n\", race_count)\n",
        "        print(\"Average age of men:\", average_age_men)\n",
        "        print(f\"Percentage with Bachelors degrees: {percentage_bachelors}%\")\n",
        "        print(f\"Percentage with higher education that earn >50K: {higher_education_rich}%\")\n",
        "        print(f\"Percentage with lower education that earn >50K: {lower_education_rich}%\")\n",
        "        print(f\"Min work time: {min_work_hours} hours/week\")\n",
        "        print(f\"Rich among those who work fewest hours: {rich_percentage}%\")\n",
        "        print(\"Country with highest percentage of rich:\", highest_earning_country)\n",
        "        print(\"Highest percentage of rich people in country:\", highest_earning_country_percentage)\n",
        "        print(\"Top occupations in India:\", top_IN_occupation)\n",
        "\n",
        "    return {\n",
        "        'race_count': race_count,\n",
        "        'average_age_men': average_age_men,\n",
        "        'percentage_bachelors': percentage_bachelors,\n",
        "        'higher_education_rich': higher_education_rich,\n",
        "        'lower_education_rich': lower_education_rich,\n",
        "        'min_work_hours': min_work_hours,\n",
        "        'rich_percentage': rich_percentage,\n",
        "        'highest_earning_country': highest_earning_country,\n",
        "        'highest_earning_country_percentage': highest_earning_country_percentage,\n",
        "        'top_IN_occupation': top_IN_occupation\n",
        "    }\n",
        "\n",
        "calculate_demographic_data()"
      ],
      "metadata": {
        "colab": {
          "base_uri": "https://localhost:8080/"
        },
        "id": "j1Ki6lywUuTQ",
        "outputId": "e72610a0-cec3-4720-8426-332d28fb73e8"
      },
      "execution_count": 44,
      "outputs": [
        {
          "output_type": "stream",
          "name": "stdout",
          "text": [
            "Number of each race:\n",
            " race\n",
            "White                 27816\n",
            "Black                  3124\n",
            "Asian-Pac-Islander     1039\n",
            "Amer-Indian-Eskimo      311\n",
            "Other                   271\n",
            "Name: count, dtype: int64\n",
            "Average age of men: 39.4\n",
            "Percentage with Bachelors degrees: 16.4%\n",
            "Percentage with higher education that earn >50K: 46.5%\n",
            "Percentage with lower education that earn >50K: 17.4%\n",
            "Min work time: 1 hours/week\n",
            "Rich among those who work fewest hours: 10.0%\n",
            "Country with highest percentage of rich: Iran\n",
            "Highest percentage of rich people in country: 41.9\n",
            "Top occupations in India: Prof-specialty\n"
          ]
        },
        {
          "output_type": "execute_result",
          "data": {
            "text/plain": [
              "{'race_count': race\n",
              " White                 27816\n",
              " Black                  3124\n",
              " Asian-Pac-Islander     1039\n",
              " Amer-Indian-Eskimo      311\n",
              " Other                   271\n",
              " Name: count, dtype: int64,\n",
              " 'average_age_men': np.float64(39.4),\n",
              " 'percentage_bachelors': np.float64(16.4),\n",
              " 'higher_education_rich': np.float64(46.5),\n",
              " 'lower_education_rich': np.float64(17.4),\n",
              " 'min_work_hours': 1,\n",
              " 'rich_percentage': np.float64(10.0),\n",
              " 'highest_earning_country': 'Iran',\n",
              " 'highest_earning_country_percentage': 41.9,\n",
              " 'top_IN_occupation': 'Prof-specialty'}"
            ]
          },
          "metadata": {},
          "execution_count": 44
        }
      ]
    }
  ]
}