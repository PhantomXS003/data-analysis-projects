{
  "nbformat": 4,
  "nbformat_minor": 0,
  "metadata": {
    "colab": {
      "provenance": [],
      "authorship_tag": "ABX9TyNdUuZBWVYpN2IG2lVdhxPa",
      "include_colab_link": true
    },
    "kernelspec": {
      "name": "python3",
      "display_name": "Python 3"
    },
    "language_info": {
      "name": "python"
    }
  },
  "cells": [
    {
      "cell_type": "markdown",
      "metadata": {
        "id": "view-in-github",
        "colab_type": "text"
      },
      "source": [
        "<a href=\"https://colab.research.google.com/github/PhantomXS003/data-analysis-projects/blob/main/Mean_Variance_Standard_Deviation_Calculator.ipynb\" target=\"_parent\"><img src=\"https://colab.research.google.com/assets/colab-badge.svg\" alt=\"Open In Colab\"/></a>"
      ]
    },
    {
      "cell_type": "code",
      "execution_count": null,
      "metadata": {
        "id": "7Ayd6PTaMCnw"
      },
      "outputs": [],
      "source": [
        "import numpy as np"
      ]
    },
    {
      "cell_type": "code",
      "source": [
        "def calculate(numbers):\n",
        "    if len(numbers) != 9:\n",
        "        raise ValueError(\"List must contain nine numbers.\")\n",
        "\n",
        "    matrix = np.array(numbers).reshape(3, 3)\n",
        "    calculations = {\n",
        "        'mean': [\n",
        "            matrix.mean(axis=0).tolist(),\n",
        "            matrix.mean(axis=1).tolist(),\n",
        "            matrix.mean().item()\n",
        "        ],\n",
        "        'variance': [\n",
        "            matrix.var(axis=0).tolist(),\n",
        "            matrix.var(axis=1).tolist(),\n",
        "            matrix.var().item()\n",
        "        ],\n",
        "        'standard deviation': [\n",
        "            matrix.std(axis=0).tolist(),\n",
        "            matrix.std(axis=1).tolist(),\n",
        "            matrix.std().item()\n",
        "        ],\n",
        "        'max': [\n",
        "            matrix.max(axis=0).tolist(),\n",
        "            matrix.max(axis=1).tolist(),\n",
        "            matrix.max().item()\n",
        "        ],\n",
        "        'min': [\n",
        "            matrix.min(axis=0).tolist(),\n",
        "            matrix.min(axis=1).tolist(),\n",
        "            matrix.min().item()\n",
        "        ],\n",
        "        'sum': [\n",
        "            matrix.sum(axis=0).tolist(),\n",
        "            matrix.sum(axis=1).tolist(),\n",
        "            matrix.sum().item()\n",
        "        ]\n",
        "    }\n",
        "\n",
        "    return calculations"
      ],
      "metadata": {
        "id": "U4S9lov-MvP5"
      },
      "execution_count": 6,
      "outputs": []
    },
    {
      "cell_type": "code",
      "source": [
        "result = calculate([0, 1, 2, 3, 4, 5, 6, 7, 8,])\n",
        "print(result)"
      ],
      "metadata": {
        "colab": {
          "base_uri": "https://localhost:8080/"
        },
        "id": "zwFXvGkKOMRB",
        "outputId": "13343cac-401f-47ef-a712-86baac64ba3e"
      },
      "execution_count": 7,
      "outputs": [
        {
          "output_type": "stream",
          "name": "stdout",
          "text": [
            "{'mean': [[3.0, 4.0, 5.0], [1.0, 4.0, 7.0], 4.0], 'variance': [[6.0, 6.0, 6.0], [0.6666666666666666, 0.6666666666666666, 0.6666666666666666], 6.666666666666667], 'standard deviation': [[2.449489742783178, 2.449489742783178, 2.449489742783178], [0.816496580927726, 0.816496580927726, 0.816496580927726], 2.581988897471611], 'max': [[6, 7, 8], [2, 5, 8], 8], 'min': [[0, 1, 2], [0, 3, 6], 0], 'sum': [[9, 12, 15], [3, 12, 21], 36]}\n"
          ]
        }
      ]
    }
  ]
}